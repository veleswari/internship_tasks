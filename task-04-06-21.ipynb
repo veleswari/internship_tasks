{
 "cells": [
  {
   "cell_type": "code",
   "execution_count": 44,
   "id": "bc80edfe",
   "metadata": {},
   "outputs": [
    {
     "name": "stdout",
     "output_type": "stream",
     "text": [
      "8965432789\n",
      "Given number is:  8965432789\n",
      "Left Half of Odd numbers are: ['8', '6', '4']\n",
      "Left Half of Odd numbers are: ['9', '5']\n",
      "Right Half of Even numbers are:  ['2', '8']\n",
      "Right Half of Odd numbers are:  ['3', '7', '9']\n"
     ]
    }
   ],
   "source": [
    "import math\n",
    "def evenodd(n):\n",
    "    #n = list(k)\n",
    "    length = len(n)\n",
    "    even1 = []\n",
    "    odd1 = []\n",
    "    even2 = []\n",
    "    odd2 = []\n",
    "    mid = math.floor(length/2)\n",
    "    for i in range(mid):\n",
    "        if int(n[i]) % 2 == 0:\n",
    "            even1.append(n[i])\n",
    "        else:\n",
    "            odd1.append(n[i])\n",
    "    print(\"Given number is: \",n)\n",
    "    print(\"Left Half of Odd numbers are:\",even1)\n",
    "    print(\"Left Half of Odd numbers are:\",odd1)\n",
    "    \n",
    "    for j in range(mid,length):\n",
    "            if int(n[j]) % 2 == 0:\n",
    "                even2.append(n[j])\n",
    "            else:\n",
    "                odd2.append(n[j])\n",
    "        \n",
    "    \n",
    "    print(\"Right Half of Even numbers are: \",even2)\n",
    "    print(\"Right Half of Odd numbers are: \",odd2)\n",
    "    \n",
    "n =input()\n",
    "evenodd(n)"
   ]
  },
  {
   "cell_type": "code",
   "execution_count": 46,
   "id": "76c443b7",
   "metadata": {},
   "outputs": [
    {
     "name": "stdout",
     "output_type": "stream",
     "text": [
      "2345\n",
      "Given number :  2345\n",
      "Even numbers are :  ['2', '4']\n",
      "Odd numbers are :  ['3', '5']\n"
     ]
    }
   ],
   "source": [
    "def findingtype(k):\n",
    "    e = []\n",
    "    o = []\n",
    "    for i in k:\n",
    "        if int(i)%2==0:\n",
    "            e.append(i)\n",
    "        else:\n",
    "            o.append(i)\n",
    "    print(\"Given number : \",k)\n",
    "    print(\"Even numbers are : \",e)\n",
    "    print(\"Odd numbers are : \",o)\n",
    "n=input()\n",
    "findingtype(n)"
   ]
  },
  {
   "cell_type": "code",
   "execution_count": null,
   "id": "2f9cc0f9",
   "metadata": {},
   "outputs": [],
   "source": []
  }
 ],
 "metadata": {
  "kernelspec": {
   "display_name": "Python 3",
   "language": "python",
   "name": "python3"
  },
  "language_info": {
   "codemirror_mode": {
    "name": "ipython",
    "version": 3
   },
   "file_extension": ".py",
   "mimetype": "text/x-python",
   "name": "python",
   "nbconvert_exporter": "python",
   "pygments_lexer": "ipython3",
   "version": "3.8.0"
  }
 },
 "nbformat": 4,
 "nbformat_minor": 5
}
