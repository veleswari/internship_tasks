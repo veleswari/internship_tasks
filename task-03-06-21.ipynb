{
 "cells": [
  {
   "cell_type": "code",
   "execution_count": null,
   "id": "50ebc15e",
   "metadata": {},
   "outputs": [
    {
     "name": "stdout",
     "output_type": "stream",
     "text": [
      "Contact Book\n",
      "                    contact book opetions are:1,2,3,4,5\n",
      "                    1.Display your contacts\n",
      "                    2.create new contact\n",
      "                    3.check an entry\n",
      "                    4.delete an entry\n",
      "                    5.exit\n",
      "                    Enter your option : 2\n",
      "Please enter a number: 12345\n",
      "Enter the contact name: asha\n",
      "Contact successfully saved\n",
      "Contact Book\n",
      "                    contact book opetions are:1,2,3,4,5\n",
      "                    1.Display your contacts\n",
      "                    2.create new contact\n",
      "                    3.check an entry\n",
      "                    4.delete an entry\n",
      "                    5.exit\n",
      "                    Enter your option : 1\n",
      "asha - 12345\n"
     ]
    }
   ],
   "source": [
    "def welcome():\n",
    "    entry = int(input(\"\"\"Contact Book\n",
    "                    contact book opetions are:1,2,3,4,5\n",
    "                    1.Display your contacts\n",
    "                    2.create new contact\n",
    "                    3.check an entry\n",
    "                    4.delete an entry\n",
    "                    5.exit\n",
    "                    Enter your option : \"\"\"))\n",
    "    return entry\n",
    "\n",
    "def phonebook():\n",
    "    contacts={}\n",
    "    while True:\n",
    "        entry = welcome()\n",
    "        if entry == 1:\n",
    "            if bool(contacts) != False:\n",
    "                for k,v in contacts.items():\n",
    "                    print(k,'-',v)\n",
    "            else:\n",
    "                print(\"you have empty phone book\")\n",
    "        elif entry == 2:\n",
    "            phone_number = input(\"Please enter a number: \")\n",
    "            contact_name = input(\"Enter the contact name: \")\n",
    "            if phone_number not in contacts.items():\n",
    "                contacts.update({contact_name:phone_number})\n",
    "                print(\"Contact successfully saved\")\n",
    "            else:\n",
    "                print(\"This contact exists already\")\n",
    "        elif entry == 3:\n",
    "            name = input(\"enter the name of contact details to view: \")\n",
    "            if name in contacts:\n",
    "                print('the contact is ',name,':',contacts[name])\n",
    "            else:\n",
    "                print(\"contact doesn't exists\")\n",
    "        elif entry == 4:\n",
    "            name = input(\"enter the name of the contact to delete: \")\n",
    "            if name in contacts:\n",
    "                contacts.pop(name,None)\n",
    "            else:\n",
    "                print(\"The contact doesn't exists\")\n",
    "        elif entry == 5:\n",
    "            break\n",
    "        else:\n",
    "            print(\"Incorrect entry\")\n",
    "\n",
    "phonebook()\n",
    "        "
   ]
  },
  {
   "cell_type": "code",
   "execution_count": null,
   "id": "9b068ce8",
   "metadata": {},
   "outputs": [],
   "source": []
  }
 ],
 "metadata": {
  "kernelspec": {
   "display_name": "Python 3",
   "language": "python",
   "name": "python3"
  },
  "language_info": {
   "codemirror_mode": {
    "name": "ipython",
    "version": 3
   },
   "file_extension": ".py",
   "mimetype": "text/x-python",
   "name": "python",
   "nbconvert_exporter": "python",
   "pygments_lexer": "ipython3",
   "version": "3.8.0"
  }
 },
 "nbformat": 4,
 "nbformat_minor": 5
}
