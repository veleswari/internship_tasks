{
 "cells": [
  {
   "cell_type": "code",
   "execution_count": 1,
   "id": "cef39d35",
   "metadata": {},
   "outputs": [
    {
     "name": "stdout",
     "output_type": "stream",
     "text": [
      "2\n",
      "3\n",
      "Given numbers are 2 and 3 and it's sum is : 5\n"
     ]
    }
   ],
   "source": [
    "from arithmetic import calsi\n",
    "x = int(input())\n",
    "y = int(input())\n",
    "z = calsi.adding(x,y)\n",
    "print(\"Given numbers are {} and {} and it's sum is : {}\".format(x,y,z))\n",
    "    "
   ]
  },
  {
   "cell_type": "code",
   "execution_count": 3,
   "id": "9759f77f",
   "metadata": {},
   "outputs": [
    {
     "name": "stdout",
     "output_type": "stream",
     "text": [
      "9\n",
      "4\n",
      "Given numbers are 9 and 4 and it's sum is : 5\n"
     ]
    }
   ],
   "source": [
    "from arithmetic import calsi\n",
    "x = int(input())\n",
    "y = int(input())\n",
    "z = calsi.subtract(x,y)\n",
    "print(\"Given numbers are {} and {} and it's sum is : {}\".format(x,y,z))"
   ]
  },
  {
   "cell_type": "code",
   "execution_count": 4,
   "id": "27e4e3b7",
   "metadata": {},
   "outputs": [
    {
     "name": "stdout",
     "output_type": "stream",
     "text": [
      "5\n",
      "6\n",
      "Given numbers are 5 and 6 and it's sum is : 30\n"
     ]
    }
   ],
   "source": [
    "from arithmetic import calsi\n",
    "x = int(input())\n",
    "y = int(input())\n",
    "z = calsi.mutipl(x,y)\n",
    "print(\"Given numbers are {} and {} and it's sum is : {}\".format(x,y,z))"
   ]
  },
  {
   "cell_type": "code",
   "execution_count": 5,
   "id": "46111b90",
   "metadata": {},
   "outputs": [
    {
     "name": "stdout",
     "output_type": "stream",
     "text": [
      "10\n",
      "2\n",
      "Given numbers are 10 and 2 and it's sum is : 5.0\n"
     ]
    }
   ],
   "source": [
    "from arithmetic import calsi\n",
    "x = int(input())\n",
    "y = int(input())\n",
    "z = calsi.division(x,y)\n",
    "print(\"Given numbers are {} and {} and it's sum is : {}\".format(x,y,z))"
   ]
  },
  {
   "cell_type": "code",
   "execution_count": null,
   "id": "454e1b03",
   "metadata": {},
   "outputs": [],
   "source": []
  }
 ],
 "metadata": {
  "kernelspec": {
   "display_name": "Python 3",
   "language": "python",
   "name": "python3"
  },
  "language_info": {
   "codemirror_mode": {
    "name": "ipython",
    "version": 3
   },
   "file_extension": ".py",
   "mimetype": "text/x-python",
   "name": "python",
   "nbconvert_exporter": "python",
   "pygments_lexer": "ipython3",
   "version": "3.8.0"
  }
 },
 "nbformat": 4,
 "nbformat_minor": 5
}
