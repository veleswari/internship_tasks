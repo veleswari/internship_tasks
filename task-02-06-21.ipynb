{
 "cells": [
  {
   "cell_type": "code",
   "execution_count": 5,
   "id": "1d1ff393",
   "metadata": {},
   "outputs": [
    {
     "name": "stdout",
     "output_type": "stream",
     "text": [
      "Given String is :rgukt1234@#$\n",
      "alphabets in rgukt1234@#$: rgukt\n",
      "numbers in rgukt1234@#$: 1234\n",
      "special characters inrgukt1234@#$: @#$\n"
     ]
    }
   ],
   "source": [
    "def splitString(str):\n",
    " \n",
    "    alpha = \"\"\n",
    "    num = \"\"\n",
    "    special = \"\"\n",
    "    for i in range(len(str)):\n",
    "        if (str[i].isdigit()):\n",
    "            num = num+ str[i]\n",
    "        elif(str[i].isalpha()):\n",
    "            alpha += str[i]\n",
    "        else:\n",
    "            special += str[i]\n",
    " \n",
    "    print(\"alphabets in {}: {}\".format(str,alpha))\n",
    "    print(\"numbers in {}: {}\".format(str,num))\n",
    "    print(\"special characters in{}: {}\".format(str,special))\n",
    "    \n",
    "if __name__ == \"__main__\":\n",
    "     \n",
    "    str=input(\"Given String is :\")\n",
    "    splitString(str)"
   ]
  },
  {
   "cell_type": "code",
   "execution_count": null,
   "id": "4457cd9e",
   "metadata": {},
   "outputs": [],
   "source": []
  }
 ],
 "metadata": {
  "kernelspec": {
   "display_name": "Python 3",
   "language": "python",
   "name": "python3"
  },
  "language_info": {
   "codemirror_mode": {
    "name": "ipython",
    "version": 3
   },
   "file_extension": ".py",
   "mimetype": "text/x-python",
   "name": "python",
   "nbconvert_exporter": "python",
   "pygments_lexer": "ipython3",
   "version": "3.8.0"
  }
 },
 "nbformat": 4,
 "nbformat_minor": 5
}
